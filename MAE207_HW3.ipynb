{
 "cells": [
  {
   "cell_type": "code",
   "execution_count": 1,
   "metadata": {},
   "outputs": [],
   "source": [
    "import odrive.core\n",
    "import time\n",
    "import math\n",
    "import numpy as np\n",
    "from numpy import linalg"
   ]
  },
  {
   "cell_type": "code",
   "execution_count": 2,
   "metadata": {},
   "outputs": [
    {
     "name": "stdout",
     "output_type": "stream",
     "text": [
      "looking for ODrive...\n",
      "Found ODrive via PyUSB\n",
      "ConfigurationValue 1\n",
      "\tInterfaceNumber 0,0\n",
      "\t\tEndpointAddress 130\n",
      "\tInterfaceNumber 1,1\n",
      "\t\tEndpointAddress 1\n",
      "\t\tEndpointAddress 129\n",
      "\n",
      "EndpointAddress for writing 1\n",
      "\n",
      "EndpointAddress for reading 129\n",
      "\n",
      "Connecting to device on USB device bus 0 device 2\n",
      "JSON: [{\"name\":\"\",\"id\":0,\"type\":\"json\",\"access\":\"rw\"},{\"name\":\"vbus_voltage\",\"id\":1,\"type\":\"float\",\"access\":\"r\"},{\"name\":\"serial_number\",\"id\":2,\"type\":\"uint64\",\"access\":\"r\"},{\"name\":\"run_anticogging_calibration\",\"id\":3,\"type\":\"function\",\"arguments\":[]},{\"name\":\"config\",\"id\":5,\"type\":\"object\",\"members\":[{\"name\":\"brake_resistance\",\"id\":6,\"type\":\"float\",\"access\":\"rw\"}]},{\"name\":\"axis0\",\"id\":8,\"type\":\"object\",\"members\":[{\"name\":\"config\",\"id\":9,\"type\":\"object\",\"members\":[{\"name\":\"enable_control_at_start\",\"id\":10,\"type\":\"bool\",\"access\":\"rw\"},{\"name\":\"do_calibration_at_start\",\"id\":11,\"type\":\"bool\",\"access\":\"rw\"}]}]},{\"name\":\"motor0\",\"id\":14,\"type\":\"object\",\"members\":[{\"name\":\"config\",\"id\":15,\"type\":\"object\",\"members\":[{\"name\":\"control_mode\",\"id\":16,\"type\":\"uint8\",\"access\":\"rw\"},{\"name\":\"counts_per_step\",\"id\":17,\"type\":\"float\",\"access\":\"rw\"},{\"name\":\"pole_pairs\",\"id\":18,\"type\":\"int32\",\"access\":\"rw\"},{\"name\":\"pos_gain\",\"id\":19,\"type\":\"float\",\"access\":\"rw\"},{\"name\":\"vel_gain\",\"id\":20,\"type\":\"float\",\"access\":\"rw\"},{\"name\":\"vel_integrator_gain\",\"id\":21,\"type\":\"float\",\"access\":\"rw\"},{\"name\":\"vel_limit\",\"id\":22,\"type\":\"float\",\"access\":\"rw\"},{\"name\":\"calibration_current\",\"id\":23,\"type\":\"float\",\"access\":\"rw\"},{\"name\":\"resistance_calib_max_voltage\",\"id\":24,\"type\":\"float\",\"access\":\"rw\"},{\"name\":\"phase_inductance\",\"id\":25,\"type\":\"float\",\"access\":\"rw\"},{\"name\":\"phase_resistance\",\"id\":26,\"type\":\"float\",\"access\":\"rw\"},{\"name\":\"motor_type\",\"id\":27,\"type\":\"uint8\",\"access\":\"rw\"},{\"name\":\"rotor_mode\",\"id\":28,\"type\":\"uint8\",\"access\":\"rw\"}]},{\"name\":\"error\",\"id\":30,\"type\":\"uint8\",\"access\":\"rw\"},{\"name\":\"pos_setpoint\",\"id\":31,\"type\":\"float\",\"access\":\"rw\"},{\"name\":\"vel_setpoint\",\"id\":32,\"type\":\"float\",\"access\":\"rw\"},{\"name\":\"vel_integrator_current\",\"id\":33,\"type\":\"float\",\"access\":\"rw\"},{\"name\":\"current_setpoint\",\"id\":34,\"type\":\"float\",\"access\":\"rw\"},{\"name\":\"current_meas_phB\",\"id\":35,\"type\":\"float\",\"access\":\"r\"},{\"name\":\"current_meas_phC\",\"id\":36,\"type\":\"float\",\"access\":\"r\"},{\"name\":\"DC_calib.phB\",\"id\":37,\"type\":\"float\",\"access\":\"rw\"},{\"name\":\"DC_calib.phC\",\"id\":38,\"type\":\"float\",\"access\":\"rw\"},{\"name\":\"shunt_conductance\",\"id\":39,\"type\":\"float\",\"access\":\"rw\"},{\"name\":\"phase_current_rev_gain\",\"id\":40,\"type\":\"float\",\"access\":\"rw\"},{\"name\":\"thread_ready\",\"id\":41,\"type\":\"bool\",\"access\":\"rw\"},{\"name\":\"control_deadline\",\"id\":42,\"type\":\"uint16\",\"access\":\"rw\"},{\"name\":\"last_cpu_time\",\"id\":43,\"type\":\"uint16\",\"access\":\"rw\"},{\"name\":\"loop_counter\",\"id\":44,\"type\":\"uint32\",\"access\":\"rw\"},{\"name\":\"current_control\",\"id\":45,\"type\":\"object\",\"members\":[{\"name\":\"config\",\"id\":46,\"type\":\"object\",\"members\":[{\"name\":\"current_lim\",\"id\":47,\"type\":\"float\",\"access\":\"rw\"}]},{\"name\":\"p_gain\",\"id\":49,\"type\":\"float\",\"access\":\"rw\"},{\"name\":\"i_gain\",\"id\":50,\"type\":\"float\",\"access\":\"rw\"},{\"name\":\"v_current_control_integral_d\",\"id\":51,\"type\":\"float\",\"access\":\"rw\"},{\"name\":\"v_current_control_integral_q\",\"id\":52,\"type\":\"float\",\"access\":\"rw\"},{\"name\":\"Iq_setpoint\",\"id\":53,\"type\":\"float\",\"access\":\"rw\"},{\"name\":\"Iq_measured\",\"id\":54,\"type\":\"float\",\"access\":\"rw\"},{\"name\":\"Ibus\",\"id\":55,\"type\":\"float\",\"access\":\"r\"}]},{\"name\":\"gate_driver\",\"id\":57,\"type\":\"object\",\"members\":[{\"name\":\"drv_fault\",\"id\":58,\"type\":\"uint16\",\"access\":\"rw\"},{\"name\":\"status_reg_1\",\"id\":59,\"type\":\"uint16\",\"access\":\"rw\"},{\"name\":\"status_reg_2\",\"id\":60,\"type\":\"uint16\",\"access\":\"rw\"},{\"name\":\"ctrl_reg_1\",\"id\":61,\"type\":\"uint16\",\"access\":\"rw\"},{\"name\":\"ctrl_reg_2\",\"id\":62,\"type\":\"uint16\",\"access\":\"rw\"}]},{\"name\":\"encoder\",\"id\":64,\"type\":\"object\",\"members\":[{\"name\":\"config\",\"id\":65,\"type\":\"object\",\"members\":[{\"name\":\"use_index\",\"id\":66,\"type\":\"bool\",\"access\":\"rw\"},{\"name\":\"manually_calibrated\",\"id\":67,\"type\":\"bool\",\"access\":\"rw\"},{\"name\":\"idx_search_speed\",\"id\":68,\"type\":\"float\",\"access\":\"rw\"},{\"name\":\"cpr\",\"id\":69,\"type\":\"int32\",\"access\":\"rw\"},{\"name\":\"offset\",\"id\":70,\"type\":\"int32\",\"access\":\"rw\"},{\"name\":\"motor_dir\",\"id\":71,\"type\":\"int32\",\"access\":\"rw\"}]},{\"name\":\"phase\",\"id\":73,\"type\":\"float\",\"access\":\"r\"},{\"name\":\"pll_pos\",\"id\":74,\"type\":\"float\",\"access\":\"rw\"},{\"name\":\"pll_vel\",\"id\":75,\"type\":\"float\",\"access\":\"rw\"},{\"name\":\"pll_kp\",\"id\":76,\"type\":\"float\",\"access\":\"rw\"},{\"name\":\"pll_ki\",\"id\":77,\"type\":\"float\",\"access\":\"rw\"},{\"name\":\"encoder_offset\",\"id\":78,\"type\":\"int32\",\"access\":\"rw\"},{\"name\":\"encoder_state\",\"id\":79,\"type\":\"int32\",\"access\":\"rw\"},{\"name\":\"motor_dir\",\"id\":80,\"type\":\"int32\",\"access\":\"rw\"}]},{\"name\":\"set_pos_setpoint\",\"id\":82,\"type\":\"function\",\"arguments\":[{\"name\":\"pos_setpoint\",\"id\":83,\"type\":\"float\",\"access\":\"rw\"},{\"name\":\"vel_feed_forward\",\"id\":84,\"type\":\"float\",\"access\":\"rw\"},{\"name\":\"current_feed_forward\",\"id\":85,\"type\":\"float\",\"access\":\"rw\"}]},{\"name\":\"set_vel_setpoint\",\"id\":87,\"type\":\"function\",\"arguments\":[{\"name\":\"vel_setpoint\",\"id\":88,\"type\":\"float\",\"access\":\"rw\"},{\"name\":\"current_feed_forward\",\"id\":89,\"type\":\"float\",\"access\":\"rw\"}]},{\"name\":\"set_current_setpoint\",\"id\":91,\"type\":\"function\",\"arguments\":[{\"name\":\"current_setpoint\",\"id\":92,\"type\":\"float\",\"access\":\"rw\"}]},{\"name\":\"timing_log\",\"id\":94,\"type\":\"object\",\"members\":[{\"name\":\"TIMING_LOG_GENERAL\",\"id\":95,\"type\":\"uint16\",\"access\":\"rw\"},{\"name\":\"TIMING_LOG_ADC_CB_M0_I\",\"id\":96,\"type\":\"uint16\",\"access\":\"rw\"},{\"name\":\"TIMING_LOG_ADC_CB_M0_DC\",\"id\":97,\"type\":\"uint16\",\"access\":\"rw\"},{\"name\":\"TIMING_LOG_ADC_CB_M1_I\",\"id\":98,\"type\":\"uint16\",\"access\":\"rw\"},{\"name\":\"TIMING_LOG_ADC_CB_M1_DC\",\"id\":99,\"type\":\"uint16\",\"access\":\"rw\"},{\"name\":\"TIMING_LOG_MEAS_R\",\"id\":100,\"type\":\"uint16\",\"access\":\"rw\"},{\"name\":\"TIMING_LOG_MEAS_L\",\"id\":101,\"type\":\"uint16\",\"access\":\"rw\"},{\"name\":\"TIMING_LOG_ENC_CALIB\",\"id\":102,\"type\":\"uint16\",\"access\":\"rw\"},{\"name\":\"TIMING_LOG_IDX_SEARCH\",\"id\":103,\"type\":\"uint16\",\"access\":\"rw\"},{\"name\":\"TIMING_LOG_FOC_VOLTAGE\",\"id\":104,\"type\":\"uint16\",\"access\":\"rw\"},{\"name\":\"TIMING_LOG_FOC_CURRENT\",\"id\":105,\"type\":\"uint16\",\"access\":\"rw\"}]}]},{\"name\":\"axis1\",\"id\":108,\"type\":\"object\",\"members\":[{\"name\":\"config\",\"id\":109,\"type\":\"object\",\"members\":[{\"name\":\"enable_control_at_start\",\"id\":110,\"type\":\"bool\",\"access\":\"rw\"},{\"name\":\"do_calibration_at_start\",\"id\":111,\"type\":\"bool\",\"access\":\"rw\"}]}]},{\"name\":\"motor1\",\"id\":114,\"type\":\"object\",\"members\":[{\"name\":\"config\",\"id\":115,\"type\":\"object\",\"members\":[{\"name\":\"control_mode\",\"id\":116,\"type\":\"uint8\",\"access\":\"rw\"},{\"name\":\"counts_per_step\",\"id\":117,\"type\":\"float\",\"access\":\"rw\"},{\"name\":\"pole_pairs\",\"id\":118,\"type\":\"int32\",\"access\":\"rw\"},{\"name\":\"pos_gain\",\"id\":119,\"type\":\"float\",\"access\":\"rw\"},{\"name\":\"vel_gain\",\"id\":120,\"type\":\"float\",\"access\":\"rw\"},{\"name\":\"vel_integrator_gain\",\"id\":121,\"type\":\"float\",\"access\":\"rw\"},{\"name\":\"vel_limit\",\"id\":122,\"type\":\"float\",\"access\":\"rw\"},{\"name\":\"calibration_current\",\"id\":123,\"type\":\"float\",\"access\":\"rw\"},{\"name\":\"resistance_calib_max_voltage\",\"id\":124,\"type\":\"float\",\"access\":\"rw\"},{\"name\":\"phase_inductance\",\"id\":125,\"type\":\"float\",\"access\":\"rw\"},{\"name\":\"phase_resistance\",\"id\":126,\"type\":\"float\",\"access\":\"rw\"},{\"name\":\"motor_type\",\"id\":127,\"type\":\"uint8\",\"access\":\"rw\"},{\"name\":\"rotor_mode\",\"id\":128,\"type\":\"uint8\",\"access\":\"rw\"}]},{\"name\":\"error\",\"id\":130,\"type\":\"uint8\",\"access\":\"rw\"},{\"name\":\"pos_setpoint\",\"id\":131,\"type\":\"float\",\"access\":\"rw\"},{\"name\":\"vel_setpoint\",\"id\":132,\"type\":\"float\",\"access\":\"rw\"},{\"name\":\"vel_integrator_current\",\"id\":133,\"type\":\"float\",\"access\":\"rw\"},{\"name\":\"current_setpoint\",\"id\":134,\"type\":\"float\",\"access\":\"rw\"},{\"name\":\"current_meas_phB\",\"id\":135,\"type\":\"float\",\"access\":\"r\"},{\"name\":\"current_meas_phC\",\"id\":136,\"type\":\"float\",\"access\":\"r\"},{\"name\":\"DC_calib.phB\",\"id\":137,\"type\":\"float\",\"access\":\"rw\"},{\"name\":\"DC_calib.phC\",\"id\":138,\"type\":\"float\",\"access\":\"rw\"},{\"name\":\"shunt_conductance\",\"id\":139,\"type\":\"float\",\"access\":\"rw\"},{\"name\":\"phase_current_rev_gain\",\"id\":140,\"type\":\"float\",\"access\":\"rw\"},{\"name\":\"thread_ready\",\"id\":141,\"type\":\"bool\",\"access\":\"rw\"},{\"name\":\"control_deadline\",\"id\":142,\"type\":\"uint16\",\"access\":\"rw\"},{\"name\":\"last_cpu_time\",\"id\":143,\"type\":\"uint16\",\"access\":\"rw\"},{\"name\":\"loop_counter\",\"id\":144,\"type\":\"uint32\",\"access\":\"rw\"},{\"name\":\"current_control\",\"id\":145,\"type\":\"object\",\"members\":[{\"name\":\"config\",\"id\":146,\"type\":\"object\",\"members\":[{\"name\":\"current_lim\",\"id\":147,\"type\":\"float\",\"access\":\"rw\"}]},{\"name\":\"p_gain\",\"id\":149,\"type\":\"float\",\"access\":\"rw\"},{\"name\":\"i_gain\",\"id\":150,\"type\":\"float\",\"access\":\"rw\"},{\"name\":\"v_current_control_integral_d\",\"id\":151,\"type\":\"float\",\"access\":\"rw\"},{\"name\":\"v_current_control_integral_q\",\"id\":152,\"type\":\"float\",\"access\":\"rw\"},{\"name\":\"Iq_setpoint\",\"id\":153,\"type\":\"float\",\"access\":\"rw\"},{\"name\":\"Iq_measured\",\"id\":154,\"type\":\"float\",\"access\":\"rw\"},{\"name\":\"Ibus\",\"id\":155,\"type\":\"float\",\"access\":\"r\"}]},{\"name\":\"gate_driver\",\"id\":157,\"type\":\"object\",\"members\":[{\"name\":\"drv_fault\",\"id\":158,\"type\":\"uint16\",\"access\":\"rw\"},{\"name\":\"status_reg_1\",\"id\":159,\"type\":\"uint16\",\"access\":\"rw\"},{\"name\":\"status_reg_2\",\"id\":160,\"type\":\"uint16\",\"access\":\"rw\"},{\"name\":\"ctrl_reg_1\",\"id\":161,\"type\":\"uint16\",\"access\":\"rw\"},{\"name\":\"ctrl_reg_2\",\"id\":162,\"type\":\"uint16\",\"access\":\"rw\"}]},{\"name\":\"encoder\",\"id\":164,\"type\":\"object\",\"members\":[{\"name\":\"config\",\"id\":165,\"type\":\"object\",\"members\":[{\"name\":\"use_index\",\"id\":166,\"type\":\"bool\",\"access\":\"rw\"},{\"name\":\"manually_calibrated\",\"id\":167,\"type\":\"bool\",\"access\":\"rw\"},{\"name\":\"idx_search_speed\",\"id\":168,\"type\":\"float\",\"access\":\"rw\"},{\"name\":\"cpr\",\"id\":169,\"type\":\"int32\",\"access\":\"rw\"},{\"name\":\"offset\",\"id\":170,\"type\":\"int32\",\"access\":\"rw\"},{\"name\":\"motor_dir\",\"id\":171,\"type\":\"int32\",\"access\":\"rw\"}]},{\"name\":\"phase\",\"id\":173,\"type\":\"float\",\"access\":\"r\"},{\"name\":\"pll_pos\",\"id\":174,\"type\":\"float\",\"access\":\"rw\"},{\"name\":\"pll_vel\",\"id\":175,\"type\":\"float\",\"access\":\"rw\"},{\"name\":\"pll_kp\",\"id\":176,\"type\":\"float\",\"access\":\"rw\"},{\"name\":\"pll_ki\",\"id\":177,\"type\":\"float\",\"access\":\"rw\"},{\"name\":\"encoder_offset\",\"id\":178,\"type\":\"int32\",\"access\":\"rw\"},{\"name\":\"encoder_state\",\"id\":179,\"type\":\"int32\",\"access\":\"rw\"},{\"name\":\"motor_dir\",\"id\":180,\"type\":\"int32\",\"access\":\"rw\"}]},{\"name\":\"set_pos_setpoint\",\"id\":182,\"type\":\"function\",\"arguments\":[{\"name\":\"pos_setpoint\",\"id\":183,\"type\":\"float\",\"access\":\"rw\"},{\"name\":\"vel_feed_forward\",\"id\":184,\"type\":\"float\",\"access\":\"rw\"},{\"name\":\"current_feed_forward\",\"id\":185,\"type\":\"float\",\"access\":\"rw\"}]},{\"name\":\"set_vel_setpoint\",\"id\":187,\"type\":\"function\",\"arguments\":[{\"name\":\"vel_setpoint\",\"id\":188,\"type\":\"float\",\"access\":\"rw\"},{\"name\":\"current_feed_forward\",\"id\":189,\"type\":\"float\",\"access\":\"rw\"}]},{\"name\":\"set_current_setpoint\",\"id\":191,\"type\":\"function\",\"arguments\":[{\"name\":\"current_setpoint\",\"id\":192,\"type\":\"float\",\"access\":\"rw\"}]},{\"name\":\"timing_log\",\"id\":194,\"type\":\"object\",\"members\":[{\"name\":\"TIMING_LOG_GENERAL\",\"id\":195,\"type\":\"uint16\",\"access\":\"rw\"},{\"name\":\"TIMING_LOG_ADC_CB_M0_I\",\"id\":196,\"type\":\"uint16\",\"access\":\"rw\"},{\"name\":\"TIMING_LOG_ADC_CB_M0_DC\",\"id\":197,\"type\":\"uint16\",\"access\":\"rw\"},{\"name\":\"TIMING_LOG_ADC_CB_M1_I\",\"id\":198,\"type\":\"uint16\",\"access\":\"rw\"},{\"name\":\"TIMING_LOG_ADC_CB_M1_DC\",\"id\":199,\"type\":\"uint16\",\"access\":\"rw\"},{\"name\":\"TIMING_LOG_MEAS_R\",\"id\":200,\"type\":\"uint16\",\"access\":\"rw\"},{\"name\":\"TIMING_LOG_MEAS_L\",\"id\":201,\"type\":\"uint16\",\"access\":\"rw\"},{\"name\":\"TIMING_LOG_ENC_CALIB\",\"id\":202,\"type\":\"uint16\",\"access\":\"rw\"},{\"name\":\"TIMING_LOG_IDX_SEARCH\",\"id\":203,\"type\":\"uint16\",\"access\":\"rw\"},{\"name\":\"TIMING_LOG_FOC_VOLTAGE\",\"id\":204,\"type\":\"uint16\",\"access\":\"rw\"},{\"name\":\"TIMING_LOG_FOC_CURRENT\",\"id\":205,\"type\":\"uint16\",\"access\":\"rw\"}]}]},{\"name\":\"save_configuration\",\"id\":208,\"type\":\"function\",\"arguments\":[]},{\"name\":\"erase_configuration\",\"id\":210,\"type\":\"function\",\"arguments\":[]},{\"name\":\"reboot\",\"id\":212,\"type\":\"function\",\"arguments\":[]},{\"name\":\"enter_dfu_mode\",\"id\":214,\"type\":\"function\",\"arguments\":[]}]\n",
      "property [anonymous] has unsupported type json\n"
     ]
    }
   ],
   "source": [
    "my_drive = odrive.core.find_any(consider_usb=True, consider_serial=False, printer=print)"
   ]
  },
  {
   "cell_type": "code",
   "execution_count": 3,
   "metadata": {},
   "outputs": [],
   "source": [
    "# define handles to the motor functions\n",
    "m0=my_drive.motor0\n",
    "m1=my_drive.motor1 \n",
    "\n",
    "m0.config.pos_gain=20\n",
    "m1.config.pos_gain=20\n",
    "\n",
    "encoder2angle = 4*2048\n",
    "\n",
    "#Set home pos\n",
    "def set_home():\n",
    "       \n",
    "    home0, home1 = (m0.encoder.pll_pos/encoder2angle*2*np.pi,m1.encoder.pll_pos/encoder2angle*2*np.pi)\n",
    "    \n",
    "    return(home0, home1)\n",
    "\n",
    "\n",
    "        "
   ]
  },
  {
   "cell_type": "code",
   "execution_count": 4,
   "metadata": {},
   "outputs": [],
   "source": [
    "def get_joint_pos():\n",
    "    joint_0_pos = m0.encoder.pll_pos/encoder2angle*2*np.pi\n",
    "    joint_1_pos = m1.encoder.pll_pos/encoder2angle*2*np.pi\n",
    "    \n",
    "    \n",
    "    return (joint_0_pos, joint_1_pos)"
   ]
  },
  {
   "cell_type": "code",
   "execution_count": 5,
   "metadata": {},
   "outputs": [
    {
     "name": "stdout",
     "output_type": "stream",
     "text": [
      "(-0.006748400137953188, -0.0009555415164253269)\n"
     ]
    }
   ],
   "source": [
    "print(get_joint_pos())\n",
    "home0, home1 = set_home()"
   ]
  },
  {
   "cell_type": "code",
   "execution_count": 6,
   "metadata": {},
   "outputs": [],
   "source": [
    "def return_home(home0, home1):\n",
    "    \n",
    "    m0.set_pos_setpoint(home0*encoder2angle/(2*np.pi), 2, 0)\n",
    "    m1.set_pos_setpoint(home1*encoder2angle/(2*np.pi), 2, 0)\n",
    "    \n",
    "\n"
   ]
  },
  {
   "cell_type": "code",
   "execution_count": 7,
   "metadata": {},
   "outputs": [],
   "source": [
    "def jump(target0, target1):\n",
    "    \n",
    "    m0.set_pos_setpoint(target0*encoder2angle/(2*np.pi), 0, 0)\n",
    "    m1.set_pos_setpoint(target1*encoder2angle/(2*np.pi), 0, 0)\n"
   ]
  },
  {
   "cell_type": "code",
   "execution_count": 8,
   "metadata": {},
   "outputs": [],
   "source": [
    "return_home(home0, home1)"
   ]
  },
  {
   "cell_type": "code",
   "execution_count": 39,
   "metadata": {},
   "outputs": [],
   "source": [
    "m0.set_pos_setpoint((home0-np.pi/10)*encoder2angle/(2*np.pi), 2, 0)\n",
    "m1.set_pos_setpoint((home1+np.pi/10)*encoder2angle/(2*np.pi), 2, 0)"
   ]
  },
  {
   "cell_type": "code",
   "execution_count": 9,
   "metadata": {},
   "outputs": [],
   "source": [
    "def touchdown_pos():\n",
    "    touch0, touch1 = get_joint_pos()\n",
    "    return(touch0, touch1)\n"
   ]
  },
  {
   "cell_type": "code",
   "execution_count": 20,
   "metadata": {},
   "outputs": [
    {
     "data": {
      "text/plain": [
       "-9.955525398254395"
      ]
     },
     "execution_count": 20,
     "metadata": {},
     "output_type": "execute_result"
    }
   ],
   "source": [
    "my_drive.motor1.current_control.Iq_measured\n",
    "\n"
   ]
  },
  {
   "cell_type": "code",
   "execution_count": 23,
   "metadata": {},
   "outputs": [],
   "source": [
    "jump(home0-np.pi/5, home1+np.pi/5)"
   ]
  },
  {
   "cell_type": "code",
   "execution_count": 27,
   "metadata": {},
   "outputs": [],
   "source": [
    "def jumping(home0, home1):\n",
    "    \n",
    "    #From home postion, move down to jumping position\n",
    "    jump_pos = np.pi/5\n",
    "    jump_pos_0 = (home0-jump_pos)\n",
    "    jump_pos_1 = (home1+jump_pos)\n",
    "    jump(jump_pos_0, jump_pos_1)\n",
    "    \n",
    "    delta_jump = 50\n",
    "    delta_return_home = 500\n",
    "    \n",
    "   \n",
    "    time_end = time.time() + 10\n",
    "    \n",
    "    while True:\n",
    "        time.sleep(0.2)\n",
    "        \n",
    "        if time.time() > time_end:\n",
    "            break\n",
    "            \n",
    "        m0, m1 = get_joint_pos()\n",
    "        delta0 = abs(m0 + home0)\n",
    "        delta1 = abs(m1 + home1)\n",
    "        \n",
    "        print(delta0, delta1)\n",
    "        \n",
    "        if delta0 < jump_pos and delta1 < np.pi/7:\n",
    "            jump(jump_pos_0, jump_pos_1)\n",
    "            \n",
    "        if delta0 > jump_pos and delta1 > np.pi/5:\n",
    "            return_home(home0+np.pi/2, home1-np.pi/2)\n",
    "            \n",
    "    return_home(home0, home1)\n",
    "            \n",
    "            \n",
    "        \n",
    "  "
   ]
  },
  {
   "cell_type": "code",
   "execution_count": 29,
   "metadata": {},
   "outputs": [
    {
     "name": "stdout",
     "output_type": "stream",
     "text": [
      "0.9294773625887006 0.3777056785575869\n",
      "1.1788767602632508 0.5395281291007635\n",
      "1.1313529418940311 0.5230845085693938\n",
      "1.1275033841502136 0.5223173309219368\n",
      "1.1252001659262154 0.5257813804935059\n",
      "1.120593729478219 0.5319216104758737\n",
      "1.113048536379212 0.5416919370834798\n",
      "0.951714466407618 0.724373141734633\n",
      "0.29666623619667076 0.1508694515868058\n",
      "0.393631138259764 0.4878818778042367\n",
      "0.8203463890513256 0.9445616934030546\n",
      "0.19776446570666176 0.28125078484696014\n",
      "0.3551344607071933 0.3903387368894601\n",
      "0.734443839436758 0.7819631004504313\n",
      "0.02679825490631109 0.027829447208181\n",
      "0.3126037104793033 0.33187664493152585\n",
      "0.9657263659909067 1.055409500784879\n",
      "0.2865993702427249 0.3424663695103464\n",
      "0.3709054900224391 0.3990492788270665\n",
      "0.7068281593042623 0.751279692809057\n",
      "0.06092160615514423 0.05853703688540557\n",
      "0.33312011835004207 0.3703853067090019\n",
      "1.000501216102997 1.0983244484104184\n",
      "0.23363766300932104 0.2847717828935189\n",
      "0.3350576070542235 0.3601196945564791\n",
      "0.735971828112191 0.7750557864473635\n",
      "0.12074184785118083 0.12092596962344883\n",
      "0.3351225840236322 0.3649971804662021\n",
      "1.004015964563521 1.0863508033286111\n",
      "0.25924233402664365 0.29868010787679544\n",
      "0.30358960718857664 0.3292596366311971\n",
      "0.746710536268204 0.7865655109478736\n",
      "0.048032888259738366 0.054210643919487086\n",
      "0.32072124394429796 0.3494659994958883\n",
      "1.0115257667483541 1.1111391426510135\n",
      "0.20134229519476388 0.2553367944309573\n",
      "0.24214068123987495 0.26723296337128666\n",
      "0.808838537085957 0.8571277845497994\n",
      "0.21980950593678833 0.24339158847661094\n",
      "0.36866287171695644 0.4048299820622737\n",
      "0.7827623617200142 0.8272173126014422\n",
      "0.05323545651044576 0.05510660005108483\n",
      "0.29041302212520487 0.3637565557149158\n",
      "0.9175733758141557 1.046054127964621\n",
      "0.21774374857541678 0.30958877200358553\n",
      "0.3205876151552654 0.3487920740984761\n",
      "0.736741627308846 0.7819563125105435\n"
     ]
    }
   ],
   "source": [
    "jumping(home0, home1)"
   ]
  },
  {
   "cell_type": "code",
   "execution_count": 17,
   "metadata": {},
   "outputs": [
    {
     "data": {
      "text/plain": [
       "0.0006243895896007398"
      ]
     },
     "execution_count": 17,
     "metadata": {},
     "output_type": "execute_result"
    }
   ],
   "source": [
    "m0, m1 = get_joint_pos()\n",
    "delta = np.array([m0-home0, m1-home1])\n",
    "np.linalg.norm(delta)"
   ]
  },
  {
   "cell_type": "code",
   "execution_count": null,
   "metadata": {},
   "outputs": [],
   "source": [
    "home0, home1 = set_home()\n",
    "jump_pos = np.pi/4\n",
    "jump_pos_0 = (home0-jump_pos)\n",
    "jump_pos_1 = (home1+jump_pos)\n",
    "jump(jump_pos_0, jump_pos_1)"
   ]
  },
  {
   "cell_type": "code",
   "execution_count": 30,
   "metadata": {},
   "outputs": [
    {
     "data": {
      "image/jpeg": "[encoded data removed]",
      "text/html": [
       "\n",
       "        <iframe\n",
       "            width=\"400\"\n",
       "            height=\"300\"\n",
       "            src=\"https://www.youtube.com/embed/Nfk72VTZwKQ\"\n",
       "            frameborder=\"0\"\n",
       "            allowfullscreen\n",
       "        ></iframe>\n",
       "        "
      ],
      "text/plain": [
       "<IPython.lib.display.YouTubeVideo at 0x2807b035f28>"
      ]
     },
     "execution_count": 30,
     "metadata": {},
     "output_type": "execute_result"
    }
   ],
   "source": [
    "import matplotlib.pyplot as plt\n",
    "\n",
    "from IPython.lib.display import YouTubeVideo # for youtube videos\n",
    "\n",
    "YouTubeVideo('Nfk72VTZwKQ')"
   ]
  },
  {
   "cell_type": "code",
   "execution_count": 31,
   "metadata": {},
   "outputs": [
    {
     "data": {
      "image/jpeg": "[encoded data removed]",
      "text/html": [
       "\n",
       "        <iframe\n",
       "            width=\"400\"\n",
       "            height=\"300\"\n",
       "            src=\"https://www.youtube.com/embed/HRPjZkalBrA\"\n",
       "            frameborder=\"0\"\n",
       "            allowfullscreen\n",
       "        ></iframe>\n",
       "        "
      ],
      "text/plain": [
       "<IPython.lib.display.YouTubeVideo at 0x2807b035f98>"
      ]
     },
     "execution_count": 31,
     "metadata": {},
     "output_type": "execute_result"
    }
   ],
   "source": [
    "YouTubeVideo('HRPjZkalBrA')"
   ]
  },
  {
   "cell_type": "code",
   "execution_count": null,
   "metadata": {},
   "outputs": [],
   "source": []
  }
 ],
 "metadata": {
  "kernelspec": {
   "display_name": "Python 3",
   "language": "python",
   "name": "python3"
  },
  "language_info": {
   "codemirror_mode": {
    "name": "ipython",
    "version": 3
   },
   "file_extension": ".py",
   "mimetype": "text/x-python",
   "name": "python",
   "nbconvert_exporter": "python",
   "pygments_lexer": "ipython3",
   "version": "3.6.4"
  }
 },
 "nbformat": 4,
 "nbformat_minor": 2
}
